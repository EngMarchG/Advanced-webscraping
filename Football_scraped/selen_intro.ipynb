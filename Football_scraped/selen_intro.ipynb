{
 "cells": [
  {
   "cell_type": "code",
   "execution_count": 6,
   "metadata": {},
   "outputs": [],
   "source": [
    "#Selenium 3\n",
    "# from selenium import webdriver\n",
    "# from selenium.webdriver.support.select import Select\n",
    "import pandas as pd\n",
    "import time\n",
    "\n",
    "\n",
    "#Selenium 4\n",
    "from selenium import webdriver\n",
    "from selenium.webdriver.common.by import By\n",
    "from selenium.webdriver.common.keys import Keys\n",
    "from selenium.webdriver.support.select import Select\n",
    "from selenium.webdriver.chrome.service import Service\n"
   ]
  },
  {
   "cell_type": "code",
   "execution_count": 67,
   "metadata": {},
   "outputs": [
    {
     "name": "stderr",
     "output_type": "stream",
     "text": [
      "C:\\Users\\user\\AppData\\Local\\Temp/ipykernel_22928/1505001127.py:5: DeprecationWarning: executable_path has been deprecated, please pass in a Service object\n",
      "  driver = webdriver.Chrome(path)\n",
      "C:\\Users\\user\\AppData\\Local\\Temp/ipykernel_22928/1505001127.py:12: DeprecationWarning: find_element_by_* commands are deprecated. Please use find_element() instead\n",
      "  all_matches_button = driver.find_element_by_xpath('//label[@analytics-event=\"All matches\"]')\n",
      "C:\\Users\\user\\AppData\\Local\\Temp/ipykernel_22928/1505001127.py:15: DeprecationWarning: find_elements_by_* commands are deprecated. Please use find_elements() instead\n",
      "  matches = driver.find_elements_by_tag_name(\"tr\")\n",
      "C:\\Users\\user\\AppData\\Local\\Programs\\Python\\Python38\\lib\\site-packages\\selenium\\webdriver\\remote\\webelement.py:393: UserWarning: find_element_by_* commands are deprecated. Please use find_element() instead\n",
      "  warnings.warn(\"find_element_by_* commands are deprecated. Please use find_element() instead\")\n"
     ]
    }
   ],
   "source": [
    "# from time import sleep\n",
    "\n",
    "website = \"https://www.adamchoi.co.uk/overs/detailed\"\n",
    "path = \"C:\\\\bin\\\\chromedriver.exe\"\n",
    "driver = webdriver.Chrome(path)\n",
    "driver.get(website)\n",
    "\n",
    "#Another method to install the service on the go\n",
    "# service = EdgeService(executable_path=EdgeChromiumDriverManager().install())\n",
    "# driver = webdriver.Edge(service=service)\n",
    "\n",
    "all_matches_button = driver.find_element_by_xpath('//label[@analytics-event=\"All matches\"]')\n",
    "all_matches_button.click()\n",
    "\n",
    "matches = driver.find_elements_by_tag_name(\"tr\")\n",
    "\n",
    "date = []\n",
    "home_team = []\n",
    "score = []\n",
    "away_team = []\n",
    "\n",
    "for match in matches:\n",
    "    date.append(match.find_element_by_xpath(\"./td[1]\").text)\n",
    "    home_team.append(match.find_element_by_xpath(\"./td[2]\").text)\n",
    "    score.append(match.find_element_by_xpath(\"./td[3]\").text)\n",
    "    away_team.append(match.find_element_by_xpath(\"./td[4]\").text)\n",
    "\n",
    "driver.quit()"
   ]
  },
  {
   "cell_type": "code",
   "execution_count": 2,
   "metadata": {},
   "outputs": [
    {
     "ename": "NameError",
     "evalue": "name 'date' is not defined",
     "output_type": "error",
     "traceback": [
      "\u001b[1;31m---------------------------------------------------------------------------\u001b[0m",
      "\u001b[1;31mNameError\u001b[0m                                 Traceback (most recent call last)",
      "\u001b[1;32m~\\AppData\\Local\\Temp/ipykernel_29952/1546957975.py\u001b[0m in \u001b[0;36m<module>\u001b[1;34m\u001b[0m\n\u001b[0;32m      1\u001b[0m \u001b[1;32mimport\u001b[0m \u001b[0mpandas\u001b[0m \u001b[1;32mas\u001b[0m \u001b[0mpd\u001b[0m\u001b[1;33m\u001b[0m\u001b[1;33m\u001b[0m\u001b[0m\n\u001b[0;32m      2\u001b[0m \u001b[1;33m\u001b[0m\u001b[0m\n\u001b[1;32m----> 3\u001b[1;33m \u001b[0mdf\u001b[0m \u001b[1;33m=\u001b[0m \u001b[0mpd\u001b[0m\u001b[1;33m.\u001b[0m\u001b[0mDataFrame\u001b[0m\u001b[1;33m(\u001b[0m\u001b[1;33m{\u001b[0m\u001b[1;34m\"Date\"\u001b[0m\u001b[1;33m:\u001b[0m\u001b[0mdate\u001b[0m\u001b[1;33m,\u001b[0m \u001b[1;34m\"Home\"\u001b[0m\u001b[1;33m:\u001b[0m\u001b[0mhome_team\u001b[0m\u001b[1;33m,\u001b[0m \u001b[1;34m\"Score\"\u001b[0m\u001b[1;33m:\u001b[0m\u001b[0mscore\u001b[0m\u001b[1;33m,\u001b[0m \u001b[1;34m\"Away\"\u001b[0m\u001b[1;33m:\u001b[0m\u001b[0maway_team\u001b[0m\u001b[1;33m}\u001b[0m\u001b[1;33m)\u001b[0m\u001b[1;33m\u001b[0m\u001b[1;33m\u001b[0m\u001b[0m\n\u001b[0m\u001b[0;32m      4\u001b[0m \u001b[0mdf\u001b[0m\u001b[1;33m.\u001b[0m\u001b[0mto_excel\u001b[0m\u001b[1;33m(\u001b[0m\u001b[1;34m\"Football records.xlsx\"\u001b[0m\u001b[1;33m,\u001b[0m \u001b[0mindex\u001b[0m\u001b[1;33m=\u001b[0m\u001b[1;32mFalse\u001b[0m\u001b[1;33m)\u001b[0m\u001b[1;33m\u001b[0m\u001b[1;33m\u001b[0m\u001b[0m\n",
      "\u001b[1;31mNameError\u001b[0m: name 'date' is not defined"
     ]
    }
   ],
   "source": [
    "df = pd.DataFrame({\"Date\":date, \"Home\":home_team, \"Score\":score, \"Away\":away_team})\n",
    "df.to_excel(\"Football records.xlsx\", index=False)"
   ]
  },
  {
   "cell_type": "code",
   "execution_count": 10,
   "metadata": {},
   "outputs": [],
   "source": [
    "website = \"https://www.adamchoi.co.uk/overs/detailed\"\n",
    "s = Service(\"C:\\\\bin\\\\chromedriver.exe\")\n",
    "driver = webdriver.Chrome(service=s)\n",
    "driver.get(website)\n",
    "\n",
    "ticker = driver.find_element(By.XPATH, \"//label[@analytics-event='All matches']\")\n",
    "ticker.click()\n",
    "\n",
    "# dropdown = Select(driver.find_element_by_id(\"Country\"))\n",
    "# dropdown.select_by_visible_text(\"Spain\")                  #Changed to selenium 4 below\n",
    "dropdown = Select(driver.find_element(By.ID, \"country\"))\n",
    "dropdown.select_by_visible_text(\"Spain\")\n",
    "\n",
    "\n",
    "matches = driver.find_elements(By.TAG_NAME, \"tr\")\n",
    "\n",
    "date = []\n",
    "home_team = []\n",
    "score = []\n",
    "away_team = []\n",
    "\n",
    "for match in matches:\n",
    "    date.append(match.find_element(By.XPATH, \"./td[1]\").text)\n",
    "    home_team.append(match.find_element(By.XPATH, \"./td[2]\").text)\n",
    "    score.append(match.find_element(By.XPATH, \"./td[3]\").text)\n",
    "    away_team.append(match.find_element(By.XPATH, \"./td[4]\").text)\n",
    "\n",
    "driver.quit()"
   ]
  },
  {
   "cell_type": "code",
   "execution_count": 12,
   "metadata": {},
   "outputs": [],
   "source": [
    "df = pd.DataFrame({\"Date\":date, \"Home\":home_team, \"Score\":score, \"Away\":away_team})\n",
    "df.to_excel(\"Football_spain_premierL.xlsx\", index=False)"
   ]
  },
  {
   "cell_type": "code",
   "execution_count": null,
   "metadata": {},
   "outputs": [],
   "source": []
  }
 ],
 "metadata": {
  "interpreter": {
   "hash": "f23faf4bfe871c203c8bec80520af5927fc7cb1ae3bd834ddf554ee587ad1c05"
  },
  "kernelspec": {
   "display_name": "Python 3.8.2 64-bit",
   "language": "python",
   "name": "python3"
  },
  "language_info": {
   "codemirror_mode": {
    "name": "ipython",
    "version": 3
   },
   "file_extension": ".py",
   "mimetype": "text/x-python",
   "name": "python",
   "nbconvert_exporter": "python",
   "pygments_lexer": "ipython3",
   "version": "3.8.2"
  },
  "orig_nbformat": 4
 },
 "nbformat": 4,
 "nbformat_minor": 2
}
