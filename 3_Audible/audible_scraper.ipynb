{
 "cells": [
  {
   "cell_type": "code",
   "execution_count": 12,
   "metadata": {},
   "outputs": [],
   "source": [
    "from selenium import webdriver\n",
    "from selenium.webdriver.common.by import By\n",
    "# from selenium.webdriver.common.keys import Keys\n",
    "# from selenium.webdriver.support.select import Select\n",
    "from selenium.webdriver.chrome.service import Service\n",
    "\n",
    "#To use headless (background) mode\n",
    "from selenium.webdriver.chrome.options import Options\n",
    "\n",
    "import pandas as pd\n",
    "import time"
   ]
  },
  {
   "cell_type": "code",
   "execution_count": 17,
   "metadata": {},
   "outputs": [
    {
     "name": "stdout",
     "output_type": "stream",
     "text": [
      "5\n",
      "['1. Atlas of the Heart', '2. Atomic Habits', '3. House of Sky and Breath', '4. Will', '5. Sierra Six', '6. Life Force', '7. Read Until You Understand', '8. Greenlights', '9. The Great Reset', '10. From Strength to Strength', '11. The Subtle Art of Not Giving a F*ck', '12. 12 Rules for Life', '13. The Maid', \"14. Can't Hurt Me\", '15. Project Hail Mary', \"16. Harry Potter and the Sorcerer's Stone, Book 1\", '17. Verity', '18. Briarheart', '19. House of Earth and Blood', '20. The Lincoln Highway', '21. The Seven Husbands of Evelyn Hugo', '22. It Ends with Us', '23. Harry Potter and the Chamber of Secrets, Book 2', '24. Crave', '25. How to Win Friends & Influence People', '26. The Body Keeps the Score', '27. The Psychology of Money', '28. Harry Potter and the Prisoner of Azkaban, Book 3', '29. Reminders of Him', '30. Harry Potter and the Goblet of Fire, Book 4', '31. Harry Potter and the Half-Blood Prince, Book 6', '32. Harry Potter and the Order of the Phoenix, Book 5', '33. The Alchemist', '34. The Midnight Library', '35. Apples Never Fall', '36. Dune', '37. Harry Potter and the Deathly Hallows, Book 7', '38. The Last Thing He Told Me', '39. Killing Floor', '40. Red-Handed', '41. 48 Laws of Power', '42. Diablo Mesa', '43. The 7 Habits of Highly Effective People', \"44. The Judge's List\", '45. Abandoned in Death', '46. Rich Dad Poor Dad: 20th Anniversary Edition', '47. The Four Agreements', '48. Extreme Ownership', '49. Where the Crawdads Sing', '50. The 1619 Project', '51. Never Split the Difference', '52. Wish You Were Here', '53. The Five Love Languages: The Secret to Love That Lasts', '54. The Storyteller', '55. The Dragon Reborn', '56. The Shadow Rising', '57. The Great Hunt', '58. The Silent Patient', '59. Artemis', '60. Think and Grow Rich', '61. Dark Horse', '62. Unfu*k Yourself', '63. What Happened to You?', '64. The Rake', '65. Stolen Focus', '66. Die Trying', '67. Where They Wait', '68. The Fellowship of the Ring', '69. The Real Anthony Fauci', '70. Dare to Lead', \"71. Gwendy's Final Task\", '72. Think Again', '73. The Fires of Heaven', '74. The Silmarillion', '75. A Promised Land', '76. My Friend Anna', '77. A Flicker in the Dark', '78. The Power of Now', '79. Born a Crime', '80. Untamed']\n"
     ]
    }
   ],
   "source": [
    "#Allows the browser to work in the background\n",
    "options= Options()\n",
    "options.headless = False\n",
    "#resize the browser, bigger sizes usually allow for more data to appear == more scraping\n",
    "# options.add_argument(\"window-size=1920x1080\")\n",
    "\n",
    "website = \"https://www.audible.com/adblbestsellers?ref=a_search_t1_navTop_pl0cg1c0r0&pf_rd_p=fe7365e8-61ba-4d50-b524-df73bbd8631f&pf_rd_r=BH3B8SWH8352DAF4D9ZR\"\n",
    "s = Service(\"C:\\\\bin\\\\chromedriver.exe\")\n",
    "driver = webdriver.Chrome(service=s, options=options)\n",
    "driver.get(website)\n",
    "#Resizes the window to the limit, used when headless option is unused\n",
    "driver.maximize_window()\n",
    "\n",
    "#Pagination\n",
    "pagination = driver.find_element(By.XPATH, \"//ul[contains(@class, 'pagingElements')]\")\n",
    "webpage = pagination.find_elements(By.TAG_NAME, \"li\")\n",
    "last_page = int(webpage[-2].text)\n",
    "print(last_page)\n",
    "\n",
    "current_page = 1\n",
    "title = []\n",
    "author = []\n",
    "run_time = []\n",
    "\n",
    "while current_page < last_page:\n",
    "    time.sleep(3)\n",
    "\n",
    "    #Pinpointing the xpath containing the info needed\n",
    "    books = driver.find_element(By.CLASS_NAME, \"adbl-impression-container\")\n",
    "    info_books = books.find_elements(By.XPATH, \"./li\")\n",
    "\n",
    "    #Looping through the page to extract elements \n",
    "    for info in info_books:\n",
    "        title.append(info.find_element(By.XPATH, \".//h3[contains(@class, 'bc-heading')]\").text)\n",
    "        author.append(info.find_element(By.XPATH, \".//li[contains(@class, 'authorLabel')]\").text)\n",
    "        run_time.append(info.find_element(By.XPATH, \".//li[contains(@class, 'runtimeLabel')]\").text)\n",
    "    current_page += 1\n",
    "    \n",
    "    try:\n",
    "        next_page = driver.find_element(By.XPATH, \"//span[contains(@class, 'nextButton')]\")\n",
    "        next_page.click()\n",
    "    except:\n",
    "        pass\n",
    "\n",
    "print(f\"{title}\")\n",
    "driver.quit()\n",
    "\n",
    "\n"
   ]
  },
  {
   "cell_type": "code",
   "execution_count": 18,
   "metadata": {},
   "outputs": [],
   "source": [
    "df = pd.DataFrame({\"Title\":title, \"Author\":author, \"Length\":run_time})\n",
    "df.to_excel(\"Audibles_best_sellers.xlsx\", index=False)"
   ]
  },
  {
   "cell_type": "code",
   "execution_count": null,
   "metadata": {},
   "outputs": [],
   "source": []
  }
 ],
 "metadata": {
  "interpreter": {
   "hash": "f23faf4bfe871c203c8bec80520af5927fc7cb1ae3bd834ddf554ee587ad1c05"
  },
  "kernelspec": {
   "display_name": "Python 3.8.2 64-bit",
   "language": "python",
   "name": "python3"
  },
  "language_info": {
   "codemirror_mode": {
    "name": "ipython",
    "version": 3
   },
   "file_extension": ".py",
   "mimetype": "text/x-python",
   "name": "python",
   "nbconvert_exporter": "python",
   "pygments_lexer": "ipython3",
   "version": "3.8.2"
  },
  "orig_nbformat": 4
 },
 "nbformat": 4,
 "nbformat_minor": 2
}
