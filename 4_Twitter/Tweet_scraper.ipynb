{
 "cells": [
  {
   "cell_type": "code",
   "execution_count": 1,
   "metadata": {},
   "outputs": [],
   "source": [
    "from selenium import webdriver\n",
    "from selenium.webdriver.common.by import By\n",
    "from selenium.webdriver.chrome.service import Service\n",
    "from selenium.webdriver.chrome.options import Options\n",
    "\n",
    "#Explicit waits\n",
    "from selenium.webdriver.support.ui import WebDriverWait\n",
    "from selenium.webdriver.support import expected_conditions as EC\n",
    "\n",
    "import pandas as pd\n",
    "import time"
   ]
  },
  {
   "cell_type": "code",
   "execution_count": 3,
   "metadata": {},
   "outputs": [],
   "source": [
    "# Infinite scrolling tweet scraping\n",
    "website = \"https://twitter.com/search?q=python&src=typed_query\"\n",
    "s = Service(\"C:\\\\bin\\\\chromedriver.exe\")\n",
    "driver = webdriver.Chrome(service=s)\n",
    "driver.get(website)\n",
    "driver.maximize_window\n",
    "\n",
    "\n",
    "# Extracts the tweet text and the user name \n",
    "def get_tweet(ele):\n",
    "    try:\n",
    "        user = ele.find_element(By.XPATH, \".//span[contains(text(), '@')]\").text\n",
    "        text = ele.find_element(By.XPATH, \".//div[@lang]\").text\n",
    "        tweet_data = [user, text]\n",
    "    except:\n",
    "        tweet_data = [\"user\", \"data\"]\n",
    "    return tweet_data\n",
    "\n",
    "user_data = []\n",
    "tweet_data = []\n",
    "tweet_ids = set()\n",
    "\n",
    "scrolling = True\n",
    "while scrolling == True:\n",
    "    # Makes sure the page is loaded before continuing\n",
    "    tweets = WebDriverWait(driver, 5).until(EC.presence_of_all_elements_located(\n",
    "        (By.XPATH, \"//article[@role='article']\")\n",
    "    ))\n",
    "    \n",
    "    # Get each tweet element from the loaded page\n",
    "    # It is a assumed an average of 15 tweets are loaded per page\n",
    "    for tweet in tweets[-15:]:\n",
    "        tweet_list = get_tweet(tweet)\n",
    "        tweet_id = \"\".join(tweet_list)    # Makes sure it is a unique tweet\n",
    "        \n",
    "        if tweet_id not in tweet_ids:\n",
    "            tweet_ids.add(tweet_id)\n",
    "            user_data.append(tweet_list[0])\n",
    "            tweet_data.append(\" \".join(tweet_list[1].split()))\n",
    "    \n",
    "    # Scrolls the page for new tweets\n",
    "    last_height = driver.execute_script(\"return document.body.scrollHeight\")\n",
    "    while True:\n",
    "        driver.execute_script(\"window.scrollTo(0, document.body.scrollHeight);\")\n",
    "        time.sleep(4)\n",
    "        new_height = driver.execute_script(\"return document.body.scrollHeight\")\n",
    "        \n",
    "        # Reach till the end of the scrool\n",
    "        # if new_height == last_height:\n",
    "        #     scrolling = False\n",
    "        #     break\n",
    "        \n",
    "        # For scrapping a set number of tweets \n",
    "        if len(user_data) > 100:\n",
    "            scrolling = False\n",
    "            break\n",
    "        else: \n",
    "            last_height = new_height\n",
    "            break\n",
    "\n",
    "driver.quit()"
   ]
  },
  {
   "cell_type": "code",
   "execution_count": 7,
   "metadata": {},
   "outputs": [
    {
     "name": "stdout",
     "output_type": "stream",
     "text": [
      "                 user                                               text\n",
      "0         @driscollis                      How to print emoji in #Python\n",
      "1         @AlSweigart  I created a short and simple Python module to ...\n",
      "2      @Antipolluters  More than 20 Trusts have spent £46,000 on the ...\n",
      "3    @DataScientistsN  Don’t let ASUU strike stop your learning. This...\n",
      "4       @philipvollet  Edit your DataFrame like a spreadsheet! Mito i...\n",
      "..                ...                                                ...\n",
      "120    @anthonypjshaw  Benchmarked 2.5mil executions and the direct_i...\n",
      "121          @attomos  day 42 of #100DaysOfCode Add unit tests to my ...\n",
      "122  @PavaniMidathana  #Day2 of #1hourofcode Today i completed lists ...\n",
      "123  @zhangyi14377506  Finish python program with this size keyboard ...\n",
      "124       @lai_yannie  Figuring out how to clean data? And maybe just...\n",
      "\n",
      "[125 rows x 2 columns]\n"
     ]
    }
   ],
   "source": [
    "df_tweets = pd.DataFrame({\"user\": user_data, \"text\": tweet_data})\n",
    "df_tweets.to_csv(\"Twitter_inf_scroll.csv\", index=False)\n",
    "print(df_tweets)"
   ]
  },
  {
   "cell_type": "code",
   "execution_count": null,
   "metadata": {},
   "outputs": [],
   "source": []
  }
 ],
 "metadata": {
  "interpreter": {
   "hash": "f23faf4bfe871c203c8bec80520af5927fc7cb1ae3bd834ddf554ee587ad1c05"
  },
  "kernelspec": {
   "display_name": "Python 3.8.2 64-bit",
   "language": "python",
   "name": "python3"
  },
  "language_info": {
   "codemirror_mode": {
    "name": "ipython",
    "version": 3
   },
   "file_extension": ".py",
   "mimetype": "text/x-python",
   "name": "python",
   "nbconvert_exporter": "python",
   "pygments_lexer": "ipython3",
   "version": "3.8.2"
  },
  "orig_nbformat": 4
 },
 "nbformat": 4,
 "nbformat_minor": 2
}
