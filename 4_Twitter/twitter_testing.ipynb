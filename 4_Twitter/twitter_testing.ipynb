{
 "cells": [
  {
   "cell_type": "code",
   "execution_count": 5,
   "metadata": {},
   "outputs": [],
   "source": [
    "from selenium import webdriver\n",
    "from selenium.webdriver.common.by import By\n",
    "from selenium.webdriver.chrome.service import Service\n",
    "from selenium.webdriver.chrome.options import Options\n",
    "\n",
    "#Explicit waits\n",
    "from selenium.webdriver.support.ui import WebDriverWait\n",
    "from selenium.webdriver.support import expected_conditions as EC\n",
    "\n",
    "import pandas as pd\n",
    "import time"
   ]
  },
  {
   "cell_type": "code",
   "execution_count": 8,
   "metadata": {},
   "outputs": [
    {
     "name": "stdout",
     "output_type": "stream",
     "text": [
      "['@driscollis', '@dave_andersen'] ['How to print emoji in #Python', \"As has already been noted, NYT changed the word list in some very small ways: They removed exactly five words: 'fibre', 'lynch', 'agora', 'pupal', 'slave', 'wench' They added no new words. See attached snipped of Python comparing the two lists. 2/8\"]\n"
     ]
    }
   ],
   "source": [
    "website = \"https://twitter.com/search?q=python&src=typed_query\"\n",
    "s = Service(\"C:\\\\bin\\\\chromedriver.exe\")\n",
    "driver = webdriver.Chrome(service=s)\n",
    "driver.get(website)\n",
    "driver.maximize_window\n",
    "\n",
    "def get_tweet(ele):\n",
    "    try:\n",
    "        user = ele.find_element(By.XPATH, \".//span[contains(text(), '@')]\").text\n",
    "        text = ele.find_element(By.XPATH, \".//div[@lang]\").text\n",
    "        tweet_data = [user, text]\n",
    "    except:\n",
    "        tweet_data = [\"user\", \"data\"]\n",
    "    return tweet_data\n",
    "\n",
    "# time.sleep(3)\n",
    "WebDriverWait(driver, 5).until(EC.presence_of_all_elements_located(\n",
    "    (By.XPATH, \"//article[@role='article']\")\n",
    "))\n",
    "\n",
    "# Selecting the tweets: note the explicit waiting above\n",
    "# Made this redundant and tweet_box can be set to it\n",
    "tweet_box = driver.find_elements(By.XPATH, \"//article[@role='article']\")\n",
    "\n",
    "user_data = []\n",
    "tweet_data = []\n",
    "\n",
    "for ele in tweet_box:\n",
    "    tweet_list = get_tweet(ele)\n",
    "\n",
    "    # Moved to a function\n",
    "    # user = ele.find_element(By.XPATH, \".//span[contains(text(), '@')]\").text\n",
    "    # text = ele.find_element(By.XPATH, \".//div[@lang]\").text\n",
    "    user_data.append(tweet_list[0])\n",
    "    tweet_data.append(\" \".join(tweet_list[1].split()))\n",
    "driver.quit()\n",
    "\n",
    "print(user_data, tweet_data)\n"
   ]
  },
  {
   "cell_type": "code",
   "execution_count": null,
   "metadata": {},
   "outputs": [],
   "source": []
  },
  {
   "cell_type": "code",
   "execution_count": 11,
   "metadata": {},
   "outputs": [],
   "source": [
    "# Infinite scrolling test\n",
    "website = \"https://twitter.com/ThePSF/status/1494990160974553089\"\n",
    "s = Service(\"C:\\\\bin\\\\chromedriver.exe\")\n",
    "driver = webdriver.Chrome(service=s)\n",
    "driver.get(website)\n",
    "driver.maximize_window\n",
    "\n",
    "last_height = driver.execute_script(\"return document.body.scrollHeight\")\n",
    "while True:\n",
    "    driver.execute_script(\"window.scrollTo(0, document.body.scrollHeight);\")\n",
    "    time.sleep(5)\n",
    "    new_height = driver.execute_script(\"return document.body.scrollHeight\")\n",
    "    if new_height == last_height:\n",
    "        break\n",
    "    else: \n",
    "        last_height = new_height\n"
   ]
  },
  {
   "cell_type": "code",
   "execution_count": null,
   "metadata": {},
   "outputs": [],
   "source": [
    "# Infinite scrolling tweet scraping\n",
    "website = \"https://twitter.com/search?q=python&src=typed_query\"\n",
    "s = Service(\"C:\\\\bin\\\\chromedriver.exe\")\n",
    "driver = webdriver.Chrome(service=s)\n",
    "driver.get(website)\n",
    "driver.maximize_window\n",
    "\n",
    "\n",
    "# Extracts the tweet text and the user name \n",
    "def get_tweet(ele):\n",
    "    try:\n",
    "        user = ele.find_element(By.XPATH, \".//span[contains(text(), '@')]\").text\n",
    "        text = ele.find_element(By.XPATH, \".//div[@lang]\").text\n",
    "        tweet_data = [user, text]\n",
    "    except:\n",
    "        tweet_data = [\"user\", \"data\"]\n",
    "    return tweet_data\n",
    "\n",
    "user_data = []\n",
    "tweet_data = []\n",
    "tweet_id = set()\n",
    "\n",
    "scrolling = True\n",
    "while scrolling == True:\n",
    "    # Makes sure the page is loaded before continuing\n",
    "    tweets = WebDriverWait(driver, 5).until(EC.presence_of_all_elements_located(\n",
    "        (By.XPATH, \"//article[@role='article']\")\n",
    "    ))\n",
    "    \n",
    "    # Get each tweet element from the loaded page\n",
    "    for tweet in tweets:\n",
    "        tweet_list = get_tweet(ele)\n",
    "        user_data.append(tweet_list[0])\n",
    "        tweet_data.append(\" \".join(tweet_list[1].split()))\n",
    "    \n",
    "    # Scrolls the page for new tweets\n",
    "    last_height = driver.execute_script(\"return document.body.scrollHeight\")\n",
    "    while True:\n",
    "        driver.execute_script(\"window.scrollTo(0, document.body.scrollHeight);\")\n",
    "        time.sleep(5)\n",
    "        new_height = driver.execute_script(\"return document.body.scrollHeight\")\n",
    "        if new_height == last_height:\n",
    "            scrolling = False\n",
    "            break\n",
    "        else: \n",
    "            last_height = new_height\n",
    "\n",
    "driver.quit()\n"
   ]
  }
 ],
 "metadata": {
  "interpreter": {
   "hash": "f23faf4bfe871c203c8bec80520af5927fc7cb1ae3bd834ddf554ee587ad1c05"
  },
  "kernelspec": {
   "display_name": "Python 3.8.2 64-bit",
   "language": "python",
   "name": "python3"
  },
  "language_info": {
   "codemirror_mode": {
    "name": "ipython",
    "version": 3
   },
   "file_extension": ".py",
   "mimetype": "text/x-python",
   "name": "python",
   "nbconvert_exporter": "python",
   "pygments_lexer": "ipython3",
   "version": "3.8.2"
  },
  "orig_nbformat": 4
 },
 "nbformat": 4,
 "nbformat_minor": 2
}
